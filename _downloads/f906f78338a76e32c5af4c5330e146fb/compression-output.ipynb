{
  "cells": [
    {
      "cell_type": "markdown",
      "metadata": {},
      "source": [
        "\n# Compression Output Script\n\nA script to get the output of the compression model.\n\nThe model script of this example can be found :doc:`here <compression>`.\n"
      ]
    },
    {
      "cell_type": "code",
      "execution_count": null,
      "metadata": {
        "collapsed": false
      },
      "outputs": [],
      "source": [
        "import numpy as np\n\nimport visualization\nfrom abaqus import *\nfrom abaqusConstants import *\nfrom driverUtils import *\n\nexecuteOnCaeStartup()\n\n# Open output database\nodb = session.openOdb(\"Job-1.odb\")\n\n# Show the output database in viewport\nsession.viewports[\"Viewport: 1\"].setValues(displayedObject=odb)\n\n# Extract output data\ndataList = session.xyDataListFromField(\n    odb=odb, outputPosition=NODAL, variable=((\"U\", NODAL, ((COMPONENT, \"U3\"),)),), nodeSets=(\"INSTANCE.SET-TOP\",)\n)\n\ndata = np.array(dataList[0])\nnp.savetxt(\"data.csv\", data, header=\"time,U3\", delimiter=\",\", comments=\"\")"
      ]
    }
  ],
  "metadata": {
    "kernelspec": {
      "display_name": "Python 3",
      "language": "python",
      "name": "python3"
    },
    "language_info": {
      "codemirror_mode": {
        "name": "ipython",
        "version": 3
      },
      "file_extension": ".py",
      "mimetype": "text/x-python",
      "name": "python",
      "nbconvert_exporter": "python",
      "pygments_lexer": "ipython3",
      "version": "3.11.11"
    }
  },
  "nbformat": 4,
  "nbformat_minor": 0
}