{
  "cells": [
    {
      "cell_type": "markdown",
      "metadata": {},
      "source": [
        "\n# Compression Model\n\nA simple example to establish a compression model.\n\n.. figure:: /images/model.png\n    :width: 50%\n    :align: center\n\n    A simple compression model.\n\nThe output script of this example can be found :doc:`here <compression-output>`.\n"
      ]
    },
    {
      "cell_type": "code",
      "execution_count": null,
      "metadata": {
        "collapsed": false
      },
      "outputs": [],
      "source": [
        "from abaqus import *\nfrom abaqusConstants import *\nfrom caeModules import *\nfrom driverUtils import *\n\nexecuteOnCaeStartup()\n\n# Model\nmodel = mdb.models[\"Model-1\"]\n\n# Part\nsketch = model.ConstrainedSketch(name=\"sketch\", sheetSize=1.0)\nsketch.rectangle((0, 0), (1, 1))\npart = model.Part(name=\"part\", dimensionality=THREE_D, type=DEFORMABLE_BODY)\npart.BaseSolidExtrude(sketch=sketch, depth=1)\n\n# Create sets\npart.Set(name=\"set-all\", cells=part.cells.findAt(coordinates=((0.5, 0.5, 0.5),)))\npart.Set(name=\"set-bottom\", faces=part.faces.findAt(coordinates=((0.5, 0.5, 0.0),)))\npart.Set(name=\"set-top\", faces=part.faces.findAt(coordinates=((0.5, 0.5, 1.0),)))\npart.Surface(name=\"surface-top\", side1Faces=part.faces.findAt(coordinates=((0.5, 0.5, 1.0),)))\n\n# Assembly\nmodel.rootAssembly.DatumCsysByDefault(CARTESIAN)\nmodel.rootAssembly.Instance(name=\"instance\", part=part, dependent=ON)\n\n# Material\nmaterial = model.Material(name=\"material\")\nmaterial.Elastic(table=((1000, 0.2),))\nmaterial.Density(table=((2500,),))\n\n# Section\nmodel.HomogeneousSolidSection(name=\"section\", material=\"material\", thickness=None)\npart.SectionAssignment(region=part.sets[\"set-all\"], sectionName=\"section\")\n\n# Step\nstep = model.StaticStep(\n    name=\"Step-1\",\n    previous=\"Initial\",\n    description=\"\",\n    timePeriod=1.0,\n    timeIncrementationMethod=AUTOMATIC,\n    maxNumInc=100,\n    initialInc=0.01,\n    minInc=0.001,\n    maxInc=0.1,\n)\n\n# Output request\nfield = model.FieldOutputRequest(\"F-Output-1\", createStepName=\"Step-1\", variables=(\"S\", \"E\", \"U\"))\n\n# Boundary condition\nbottom_instance = model.rootAssembly.instances[\"instance\"].sets[\"set-bottom\"]\nbc = model.DisplacementBC(\n    name=\"BC-1\", createStepName=\"Initial\", region=bottom_instance, u1=SET, u2=SET, u3=SET, ur1=SET, ur2=SET, ur3=SET\n)\n\n# Load\ntop_instance = model.rootAssembly.instances[\"instance\"].surfaces[\"surface-top\"]\npressure = model.Pressure(\"pressure\", createStepName=\"Step-1\", region=top_instance, magnitude=100)\n\n# Mesh\nelem1 = mesh.ElemType(elemCode=C3D8R)\nelem2 = mesh.ElemType(elemCode=C3D6)\nelem3 = mesh.ElemType(elemCode=C3D4)\npart.setElementType(regions=(part.cells,), elemTypes=(elem1, elem2, elem3))\npart.seedPart(size=0.1)\npart.generateMesh()\n\n# Job\njob = mdb.Job(name=\"Job-1\", model=\"Model-1\")\njob.writeInput()\n\n# Submit the job\njob.submit()\njob.waitForCompletion()\n\n# Save abaqus model\nmdb.saveAs(\"compression.cae\")"
      ]
    }
  ],
  "metadata": {
    "kernelspec": {
      "display_name": "Python 3",
      "language": "python",
      "name": "python3"
    },
    "language_info": {
      "codemirror_mode": {
        "name": "ipython",
        "version": 3
      },
      "file_extension": ".py",
      "mimetype": "text/x-python",
      "name": "python",
      "nbconvert_exporter": "python",
      "pygments_lexer": "ipython3",
      "version": "3.11.11"
    }
  },
  "nbformat": 4,
  "nbformat_minor": 0
}