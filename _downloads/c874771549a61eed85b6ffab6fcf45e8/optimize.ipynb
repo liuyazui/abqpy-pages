{
  "cells": [
    {
      "cell_type": "markdown",
      "metadata": {},
      "source": [
        "\n# Parameter Identification\n\nThis is a simple example of parameter identification. The compression model is a simple model with a cube of 1x1x1 m.\nThe lower surface is fixed and the upper surface is loaded with a pressure of 100 Pa. The goal is to find the Young's\nmodulus of the material that gives a maximum displacement of -0.1 m.\n\n.. figure:: /images/model.png\n    :width: 50%\n    :align: center\n\n    A simple compression model.\n\nTheoretically, the Young's modulus of the material can be calculated with the following equation:\n\n\\begin{align}E = \\frac{\\sigma}{\\epsilon} = \\frac{P}{u_{\\max}/h} = \\frac{100}{0.1 / 1.0} = 1000\\end{align}\n\nThe output of this script is:\n\n```none\nSearch results:\n     modulus   fitness\n0       10.0  9.774944\n1      100.0  0.887494\n2     1000.0  0.001251\n3    10000.0  0.090125\n4   100000.0  0.099013\n5  1000000.0  0.099901\n\nBest modulus=1000.0 with fitness=0.0012505635619163569\n```\nThe model script of this example can be found :doc:`here <compression>`.\n"
      ]
    },
    {
      "cell_type": "code",
      "execution_count": null,
      "metadata": {
        "collapsed": false
      },
      "outputs": [],
      "source": [
        "import os\n\nimport numpy as np\nimport pandas as pd\n\n\ndef fitness(x: float, maxdisp_expected: float = -0.1):\n    # Change the working directory to a new folder\n    wd = os.path.join(os.path.dirname(__file__), f\"Job-E={x}\")\n    os.makedirs(wd, exist_ok=True)\n    os.chdir(wd)\n\n    # Run the model and read the output, the additional argument can be read by the Abaqus/Python script\n    os.system(f\"python ../compression.py {x},0.2\")\n\n    # Read the output and calculate the fitness\n    data = pd.read_csv(\"data.csv\")\n    maxdisp = data[\"U3\"].iloc[-1]\n    return abs(maxdisp - maxdisp_expected)\n\n\ndef grid_search(search_space: list[float], expected: float):\n    fs = []\n    for x in search_space:\n        print(f\"Running model for E={x}\")\n        fs.append(fitness(x, expected))\n    argmin = np.argmin(fs)\n    best = search_space[argmin]\n    print(\"Search results:\", pd.DataFrame({\"modulus\": search_space, \"fitness\": fs}), sep=\"\\n\")\n    print(f\"\\nBest modulus={best} with fitness={fs[argmin]}\")\n    return best\n\n\nif __name__ == \"__main__\":\n    E = grid_search([1e1, 1e2, 1e3, 1e4, 1e5, 1e6], -0.1)"
      ]
    }
  ],
  "metadata": {
    "kernelspec": {
      "display_name": "Python 3",
      "language": "python",
      "name": "python3"
    },
    "language_info": {
      "codemirror_mode": {
        "name": "ipython",
        "version": 3
      },
      "file_extension": ".py",
      "mimetype": "text/x-python",
      "name": "python",
      "nbconvert_exporter": "python",
      "pygments_lexer": "ipython3",
      "version": "3.11.11"
    }
  },
  "nbformat": 4,
  "nbformat_minor": 0
}