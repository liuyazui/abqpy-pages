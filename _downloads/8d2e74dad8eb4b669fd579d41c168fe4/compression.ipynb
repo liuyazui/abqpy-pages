{
  "cells": [
    {
      "cell_type": "markdown",
      "metadata": {},
      "source": [
        "\n# Parameter Identification: Model Script\n\nScript to build the compression model for the parameter identification\n\nThe optimize script of this example can be found :doc:`here <optimize>`.\n"
      ]
    },
    {
      "cell_type": "code",
      "execution_count": null,
      "metadata": {
        "collapsed": false
      },
      "outputs": [],
      "source": [
        "# run with: python compression.py 1000,0.2\n\nimport numpy as np\n\nfrom abaqus import *\nfrom abaqusConstants import *\nfrom caeModules import *\nfrom driverUtils import *\n\n\ndef run(modulus, poisson=0.2):\n    executeOnCaeStartup()\n\n    # Model\n    model = mdb.models[\"Model-1\"]\n\n    # Part\n    sketch = model.ConstrainedSketch(name=\"sketch\", sheetSize=1.0)\n    sketch.rectangle((0, 0), (1, 1))\n    part = model.Part(name=\"part\", dimensionality=THREE_D, type=DEFORMABLE_BODY)\n    part.BaseSolidExtrude(sketch=sketch, depth=1)\n\n    # Create sets\n    part.Set(name=\"set-all\", cells=part.cells.findAt(coordinates=((0.5, 0.5, 0.5),)))\n    part.Set(name=\"set-bottom\", faces=part.faces.findAt(coordinates=((0.5, 0.5, 0.0),)))\n    part.Set(name=\"set-top\", faces=part.faces.findAt(coordinates=((0.5, 0.5, 1.0),)))\n    part.Surface(name=\"surface-top\", side1Faces=part.faces.findAt(coordinates=((0.5, 0.5, 1.0),)))\n\n    # Assembly\n    model.rootAssembly.DatumCsysByDefault(CARTESIAN)\n    model.rootAssembly.Instance(name=\"instance\", part=part, dependent=ON)\n\n    # Material\n    material = model.Material(name=\"material\")\n    material.Elastic(table=((modulus, poisson),))\n    material.Density(table=((2500,),))\n\n    # Section\n    model.HomogeneousSolidSection(name=\"section\", material=\"material\", thickness=None)\n    part.SectionAssignment(region=part.sets[\"set-all\"], sectionName=\"section\")\n\n    # Step\n    step = model.StaticStep(\n        name=\"Step-1\",\n        previous=\"Initial\",\n        description=\"\",\n        timePeriod=1.0,\n        timeIncrementationMethod=AUTOMATIC,\n        maxNumInc=100,\n        initialInc=0.01,\n        minInc=0.001,\n        maxInc=0.1,\n    )\n\n    # Output request\n    field = model.FieldOutputRequest(\"F-Output-1\", createStepName=\"Step-1\", variables=(\"S\", \"E\", \"U\"))\n\n    # Boundary condition\n    bottom_instance = model.rootAssembly.instances[\"instance\"].sets[\"set-bottom\"]\n    bc = model.DisplacementBC(\n        name=\"BC-1\", createStepName=\"Initial\", region=bottom_instance, u1=SET, u2=SET, u3=SET, ur1=SET, ur2=SET, ur3=SET\n    )\n\n    # Load\n    top_instance = model.rootAssembly.instances[\"instance\"].surfaces[\"surface-top\"]\n    pressure = model.Pressure(\"pressure\", createStepName=\"Step-1\", region=top_instance, magnitude=100)\n\n    # Mesh\n    elem1 = mesh.ElemType(elemCode=C3D8R)\n    elem2 = mesh.ElemType(elemCode=C3D6)\n    elem3 = mesh.ElemType(elemCode=C3D4)\n    part.setElementType(regions=(part.cells,), elemTypes=(elem1, elem2, elem3))\n    part.seedPart(size=0.1)\n    part.generateMesh()\n\n    # Job\n    job = mdb.Job(name=\"Job-1\", model=\"Model-1\")\n    job.writeInput()\n\n    # Submit the job\n    job.submit()\n    job.waitForCompletion()\n\n    mdb.saveAs(\"compression.cae\")\n\n    # Open output database\n    odb = session.openOdb(\"Job-1.odb\")\n\n    # Show the output database in viewport\n    session.viewports[\"Viewport: 1\"].setValues(displayedObject=odb)\n\n    # Extract output data\n    dataList = session.xyDataListFromField(\n        odb=odb, outputPosition=NODAL, variable=((\"U\", NODAL, ((COMPONENT, \"U3\"),)),), nodeSets=(\"INSTANCE.SET-TOP\",)\n    )\n\n    data = np.array(dataList[0])\n    np.savetxt(\"data.csv\", data, header=\"time,U3\", delimiter=\",\", comments=\"\")\n\n\nif __name__ == \"__main__\":\n    E, mu = sys.argv[-1].split(\",\")\n    run(float(E), float(mu))"
      ]
    }
  ],
  "metadata": {
    "kernelspec": {
      "display_name": "Python 3",
      "language": "python",
      "name": "python3"
    },
    "language_info": {
      "codemirror_mode": {
        "name": "ipython",
        "version": 3
      },
      "file_extension": ".py",
      "mimetype": "text/x-python",
      "name": "python",
      "nbconvert_exporter": "python",
      "pygments_lexer": "ipython3",
      "version": "3.11.11"
    }
  },
  "nbformat": 4,
  "nbformat_minor": 0
}